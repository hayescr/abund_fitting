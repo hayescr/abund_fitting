{
 "cells": [
  {
   "cell_type": "code",
   "execution_count": 2,
   "id": "22fb86f1",
   "metadata": {},
   "outputs": [],
   "source": [
    "import numpy as np\n",
    "from astropy.table import Table\n",
    "import MB21_in\n",
    "import logg_SB\n",
    "import MB21\n",
    "import MC_logg_Teff"
   ]
  },
  {
   "cell_type": "code",
   "execution_count": 3,
   "id": "11e5ce55",
   "metadata": {},
   "outputs": [],
   "source": [
    "def vmicro_mash(teff, logg, feh):\n",
    "    return 0.14 - (0.08 * feh) + (4.90 * teff/1.0e4) - (0.47 * logg)"
   ]
  },
  {
   "cell_type": "code",
   "execution_count": 4,
   "id": "644cc3d4",
   "metadata": {},
   "outputs": [
    {
     "data": {
      "text/plain": [
       "1.6661979999999998"
      ]
     },
     "execution_count": 4,
     "metadata": {},
     "output_type": "execute_result"
    }
   ],
   "source": [
    "vmicro_mash(4500.2, 1.87, -2.5)"
   ]
  },
  {
   "cell_type": "code",
   "execution_count": 14,
   "id": "d16a90f7",
   "metadata": {},
   "outputs": [
    {
     "name": "stdout",
     "output_type": "stream",
     "text": [
      "[('hd122563', 210.63269043,   9.68609619, 0.0213, 318. , 4. ,  5.87496 , 1.218804 )\n",
      " ('ret2_mem',  54.03236729, -54.04320255, 0.0155,  30.2, 3. , 16.900171, 1.065945 )\n",
      " ('ret2_cand',  54.11534189, -53.97395817, 0.0148,  30.2, 3. , 16.413347, 1.317541 )\n",
      " ('cra2_gdr32672', 176.99663812, -18.17796387, 0.0305, 117.5, 1.1, 17.396591, 1.514427 )\n",
      " ('cra2_gdr36912', 177.53613367, -18.30407348, 0.0269, 117.5, 1.1, 17.438469, 1.426128 )\n",
      " ('sgr2_gdr35584', 298.16237992, -22.077479  , 0.0945,  73.1, 1. , 16.96482 , 1.4810028)\n",
      " ('sgr2_gdr32656', 298.18147542, -22.07734845, 0.0936,  73.1, 1. , 18.409101, 1.1939106)\n",
      " ('sgr2_gdr39936', 298.15343529, -22.04959484, 0.0954,  73.1, 1. , 17.308119, 1.3915062)\n",
      " ('aqu2_gdr33776', 338.53523191,  -9.32779807, 0.0561, 107.6, 3.6, 18.78467 , 1.4043884)\n",
      " ('aqu2_gdr31472', 338.46956478,  -9.28585488, 0.0575, 107.6, 3.6, 18.78599 , 1.1961269)]\n"
     ]
    }
   ],
   "source": [
    "# data = Table.read('new_EDR3_dist_green.csv', format='ascii', delimiter=',') \n",
    "data = np.genfromtxt('stellar_param_table.txt', names=True, dtype=None, encoding=None)\n",
    "print(data)\n",
    "# star_names = data['name'][np.in1d(data['name'],['cra2_gdr32672', 'cra2_gdr36912'])]\n",
    "sgraqu_list = ['sgr2_gdr35584','sgr2_gdr32656','sgr2_gdr39936','aqu2_gdr33776','aqu2_gdr31472']\n",
    "star_names = data['name'][np.in1d(data['name'],sgraqu_list)]\n",
    "#name=np.array(all_gaia['name'])\n",
    "# data = data[np.in1d(data['name'],['cra2_gdr32672', 'cra2_gdr36912'])]\n",
    "data = data[np.in1d(data['name'],star_names)]\n",
    "ra=data['ra']\n",
    "dec=data['dec']\n",
    "ebv=data['ebv']\n",
    "\n",
    "av=3.1*ebv\n",
    "\n",
    "ag=av*0.85926\n",
    "abp=av*1.06794\n",
    "arp=av*0.65199\n",
    "\n",
    "met= (-1.9)*np.ones(len(ra))\n",
    "# met = np.array([-2.8, -2.6, -0.3])\n",
    "# met = np.array([-2.14, -1.75])\n",
    "dist=data['dist']\n",
    "dist_err=data['dist_err']\n",
    "dist_err = dist/10.\n",
    "# dist[0] /= 1000\n",
    "# dist_err[0] /= 1000\n",
    "G=data['phot_g_mean_mag']\n",
    "C=data['bp_rp'] - (abp - arp) # bp-rp"
   ]
  },
  {
   "cell_type": "code",
   "execution_count": 15,
   "id": "ee868ff1",
   "metadata": {},
   "outputs": [
    {
     "name": "stdout",
     "output_type": "stream",
     "text": [
      "[[4362.6061285 ]\n",
      " [4902.3245401 ]\n",
      " [4515.42925847]\n",
      " [4404.90102286]\n",
      " [4797.87366523]]\n",
      "[[0.79997949]\n",
      " [1.66904706]\n",
      " [1.02790951]\n",
      " [1.26162441]\n",
      " [1.47044813]]\n"
     ]
    }
   ],
   "source": [
    "Teff_mb,Teff_mb_err = MB21_in.MB21_in(C,met,100)\n",
    "print(Teff_mb)\n",
    "\n",
    "logg_sb,logg_sb_err=logg_SB.logg_SB(Teff_mb,Teff_mb_err,dist,dist_err,G,ag,1000)\n",
    "print(logg_sb)"
   ]
  },
  {
   "cell_type": "code",
   "execution_count": 16,
   "id": "72ea66a9",
   "metadata": {},
   "outputs": [
    {
     "name": "stdout",
     "output_type": "stream",
     "text": [
      "Elapsed time: 24 s\n",
      "Teff_final:\n",
      "[4446.77821065] ± [81.09968864]\n",
      "[4942.19492001] ± [97.60531811]\n",
      "[4593.47497178] ± [89.08917258]\n",
      "[4478.76685007] ± [76.84099979]\n",
      "[4834.65158807] ± [95.40923338]\n",
      "logg_final: \n",
      "[0.85393401] ± [0.10973571]\n",
      "[1.69531617] ± [0.10274088]\n",
      "[1.07251815] ± [0.11662837]\n",
      "[1.29323844] ± [0.11063147]\n",
      "[1.49257435] ± [0.11336979]\n"
     ]
    }
   ],
   "source": [
    " Teff_it,logg_it,Teff_err_it,logg_err_it = MC_logg_Teff.MC_logg_Teff(C,met,logg_sb,logg_sb_err, dist, dist_err,G,ag,1000)"
   ]
  },
  {
   "cell_type": "code",
   "execution_count": 17,
   "id": "71f62e19",
   "metadata": {},
   "outputs": [
    {
     "name": "stdout",
     "output_type": "stream",
     "text": [
      "[[4446.77821065]\n",
      " [4942.19492001]\n",
      " [4593.47497178]\n",
      " [4478.76685007]\n",
      " [4834.65158807]] [[0.85393401]\n",
      " [1.69531617]\n",
      " [1.07251815]\n",
      " [1.29323844]\n",
      " [1.49257435]]\n",
      "[-1.9 -1.9 -1.9 -1.9 -1.9]\n"
     ]
    }
   ],
   "source": [
    "print(Teff_it, logg_it)\n",
    "print(met)"
   ]
  },
  {
   "cell_type": "code",
   "execution_count": 18,
   "id": "864f43eb",
   "metadata": {},
   "outputs": [
    {
     "name": "stdout",
     "output_type": "stream",
     "text": [
      "['sgr2_gdr35584' 'sgr2_gdr32656' 'sgr2_gdr39936' 'aqu2_gdr33776'\n",
      " 'aqu2_gdr31472'] [4446.77821065 4942.19492001 4593.47497178 4478.76685007 4834.65158807] [81.09968864 97.60531811 89.08917258 76.84099979 95.40923338] [0.85393401 1.69531617 1.07251815 1.29323844 1.49257435] [0.10973571 0.10274088 0.11662837 0.11063147 0.11336979] [-1.9 -1.9 -1.9 -1.9 -1.9]\n"
     ]
    }
   ],
   "source": [
    "print(star_names, Teff_it[:,0], Teff_err_it[:,0], logg_it[:,0], logg_err_it[:,0], met)"
   ]
  },
  {
   "cell_type": "code",
   "execution_count": 19,
   "id": "1075d31f",
   "metadata": {},
   "outputs": [
    {
     "name": "stdout",
     "output_type": "stream",
     "text": [
      "sgr2_gdr35584 4446.778210652624 81.09968864291127 0.8539340124452883 0.1097357051982054 -1.9 2.0695723373705004 0.09131462887818254\n",
      "sgr2_gdr32656 4942.194920009351 97.60531811209903 1.6953161683157445 0.10274087967306529 -1.9 1.9168769116961821 0.09611481932126886\n",
      "sgr2_gdr39936 4593.474971778975 89.08917257551852 1.0725181466419804 0.11662837116529284 -1.9 2.038719207249967 0.09846902900969146\n",
      "aqu2_gdr33776 4478.7668500698965 76.84099978571743 1.2932384368441288 0.11063146934689318 -1.9 1.8787736912175093 0.0896488804880411\n",
      "aqu2_gdr31472 4834.651588072096 95.40923338056808 1.4925743521059027 0.11336978588296588 -1.9 1.9594693326655532 0.1000343237214727\n"
     ]
    }
   ],
   "source": [
    "for star, teff, teff_err, logg, logg_err, mh in zip(star_names, Teff_it[:,0], Teff_err_it[:,0], logg_it[:,0], logg_err_it[:,0], met):\n",
    "    vmicro = vmicro_mash(teff, logg, mh)\n",
    "    dvm1 = np.abs(vmicro - vmicro_mash(teff+teff_err, logg, mh))\n",
    "    dvm2 = np.abs(vmicro - vmicro_mash(teff-teff_err, logg, mh))\n",
    "    dvm3 = np.abs(vmicro - vmicro_mash(teff, logg+logg_err, mh))\n",
    "    dvm4 = np.abs(vmicro - vmicro_mash(teff, logg-logg_err, mh))\n",
    "\n",
    "    vmicro_err = (dvm1+dvm2+dvm3+dvm4)/2.\n",
    "    print(star, teff, teff_err, logg, logg_err, mh, vmicro, vmicro_err)"
   ]
  },
  {
   "cell_type": "code",
   "execution_count": 13,
   "id": "87ad9049",
   "metadata": {},
   "outputs": [],
   "source": [
    "# with open('star_param_errors.txt', 'w') as file:\n",
    "#     print('# star_name teff teff_err logg logg_err mh vmicro vmirco_err', file=file)\n",
    "#     for star, teff, teff_err, logg, logg_err, mh in zip(star_names, Teff_it[:,0], Teff_err_it[:,0], logg_it[:,0], logg_err_it[:,0], met):\n",
    "#         vmicro = vmicro_mash(teff, logg, mh)\n",
    "#         dvm1 = np.abs(vmicro - vmicro_mash(teff+teff_err, logg, mh))\n",
    "#         dvm2 = np.abs(vmicro - vmicro_mash(teff-teff_err, logg, mh))\n",
    "#         dvm3 = np.abs(vmicro - vmicro_mash(teff, logg+logg_err, mh))\n",
    "#         dvm4 = np.abs(vmicro - vmicro_mash(teff, logg-logg_err, mh))\n",
    "\n",
    "#         vmicro_err = (dvm1+dvm2+dvm3+dvm4)/2.\n",
    "#         print(f'{star} {teff:.1f} {teff_err:.1f} {logg:.2f} {logg_err:.2f} {mh:.3f} {vmicro:.2f} {vmicro_err:.2f}', file=file)\n",
    "        \n",
    "        "
   ]
  },
  {
   "cell_type": "code",
   "execution_count": null,
   "id": "bf31501c",
   "metadata": {},
   "outputs": [],
   "source": []
  },
  {
   "cell_type": "code",
   "execution_count": null,
   "id": "6bf39621",
   "metadata": {},
   "outputs": [],
   "source": []
  }
 ],
 "metadata": {
  "kernelspec": {
   "display_name": "Python 3",
   "language": "python",
   "name": "python3"
  },
  "language_info": {
   "codemirror_mode": {
    "name": "ipython",
    "version": 3
   },
   "file_extension": ".py",
   "mimetype": "text/x-python",
   "name": "python",
   "nbconvert_exporter": "python",
   "pygments_lexer": "ipython3",
   "version": "3.8.8"
  }
 },
 "nbformat": 4,
 "nbformat_minor": 5
}
